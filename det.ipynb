{
 "cells": [
  {
   "cell_type": "code",
   "execution_count": 33,
   "metadata": {},
   "outputs": [],
   "source": [
    "import cv2\n",
    "import numpy as np\n",
    "import matplotlib.pyplot as plt\n",
    "from scipy.signal import savgol_filter\n"
   ]
  },
  {
   "cell_type": "code",
   "execution_count": 34,
   "metadata": {},
   "outputs": [],
   "source": [
    "X1 = np.load(r'C:\\Users\\iamma\\OneDrive\\Desktop\\SURGE\\data\\1_state_matrix_.npy')\n",
    "X2 = np.load(r'C:\\Users\\iamma\\OneDrive\\Desktop\\SURGE\\data\\2_state_matrix.npy')"
   ]
  },
  {
   "cell_type": "code",
   "execution_count": 35,
   "metadata": {},
   "outputs": [
    {
     "data": {
      "text/plain": [
       "array([   0,  200,  400,  600,  800, 1000, 1200, 1400, 1600, 1800, 2000,\n",
       "       2200, 2400, 2600, 2800, 3000, 3200, 3400, 3600, 3800, 4000, 4200,\n",
       "       4400, 4600, 4800, 5000, 5200])"
      ]
     },
     "execution_count": 35,
     "metadata": {},
     "output_type": "execute_result"
    }
   ],
   "source": [
    "time = np.load(r'C:\\Users\\iamma\\OneDrive\\Desktop\\SURGE\\times.npy')\n",
    "time"
   ]
  },
  {
   "cell_type": "code",
   "execution_count": 36,
   "metadata": {},
   "outputs": [
    {
     "ename": "NameError",
     "evalue": "name 'X' is not defined",
     "output_type": "error",
     "traceback": [
      "\u001b[1;31m---------------------------------------------------------------------------\u001b[0m",
      "\u001b[1;31mNameError\u001b[0m                                 Traceback (most recent call last)",
      "Cell \u001b[1;32mIn[36], line 1\u001b[0m\n\u001b[1;32m----> 1\u001b[0m \u001b[43mX\u001b[49m[\u001b[38;5;241m1\u001b[39m,\u001b[38;5;241m1\u001b[39m,\u001b[38;5;241m0\u001b[39m]\n",
      "\u001b[1;31mNameError\u001b[0m: name 'X' is not defined"
     ]
    }
   ],
   "source": [
    "X[1,1,0]"
   ]
  },
  {
   "cell_type": "code",
   "execution_count": null,
   "metadata": {},
   "outputs": [],
   "source": [
    "X = np.load(r'C:\\Users\\iamma\\OneDrive\\Desktop\\SURGE\\data\\states.npy')"
   ]
  },
  {
   "cell_type": "code",
   "execution_count": null,
   "metadata": {},
   "outputs": [
    {
     "data": {
      "text/plain": [
       "15.25"
      ]
     },
     "execution_count": 27,
     "metadata": {},
     "output_type": "execute_result"
    }
   ],
   "source": [
    "X[1,0,0]"
   ]
  },
  {
   "cell_type": "code",
   "execution_count": null,
   "metadata": {},
   "outputs": [],
   "source": [
    "np.save('states',X)"
   ]
  },
  {
   "cell_type": "code",
   "execution_count": 37,
   "metadata": {},
   "outputs": [],
   "source": [
    "x_pos_1 = np.load(r'C:\\Users\\iamma\\OneDrive\\Desktop\\SURGE\\data\\x_pos_1.npy')\n",
    "y_pos_1 = np.load(r'C:\\Users\\iamma\\OneDrive\\Desktop\\SURGE\\data\\y_pos_1.npy')\n",
    "time = np.load(r'C:\\Users\\iamma\\OneDrive\\Desktop\\SURGE\\times.npy')"
   ]
  },
  {
   "cell_type": "code",
   "execution_count": 38,
   "metadata": {},
   "outputs": [
    {
     "data": {
      "text/plain": [
       "array([   0,  200,  400,  600,  800, 1000, 1200, 1400, 1600, 1800, 2000,\n",
       "       2200, 2400, 2600, 2800, 3000, 3200, 3400, 3600, 3800, 4000, 4200,\n",
       "       4400, 4600, 4800, 5000, 5200])"
      ]
     },
     "execution_count": 38,
     "metadata": {},
     "output_type": "execute_result"
    }
   ],
   "source": [
    "time"
   ]
  },
  {
   "cell_type": "code",
   "execution_count": 39,
   "metadata": {},
   "outputs": [
    {
     "data": {
      "text/plain": [
       "array([124, 129, 153, 160, 184, 189, 209, 216, 226, 234, 243, 250, 256,\n",
       "       275, 281, 289, 300, 307, 314, 321, 345, 353, 384, 408, 415, 463,\n",
       "       470])"
      ]
     },
     "execution_count": 39,
     "metadata": {},
     "output_type": "execute_result"
    }
   ],
   "source": [
    "x_pos_1"
   ]
  },
  {
   "cell_type": "code",
   "execution_count": 40,
   "metadata": {},
   "outputs": [
    {
     "data": {
      "text/plain": [
       "array([157, 157, 158, 157, 165, 166, 165, 165, 165, 167, 170, 171, 171,\n",
       "       171, 170, 169, 168, 168, 166, 165, 164, 163, 153, 152, 152, 141,\n",
       "       140])"
      ]
     },
     "execution_count": 40,
     "metadata": {},
     "output_type": "execute_result"
    }
   ],
   "source": [
    "y_pos_1"
   ]
  },
  {
   "cell_type": "code",
   "execution_count": 41,
   "metadata": {},
   "outputs": [],
   "source": [
    "x_pos_2 = np.load(r'C:\\Users\\iamma\\OneDrive\\Desktop\\SURGE\\data\\x_pos_2.npy')\n",
    "y_pos_2 = np.load(r'C:\\Users\\iamma\\OneDrive\\Desktop\\SURGE\\data\\y_pos_2.npy')\n",
    "# time = np.load(r'C:\\Users\\iamma\\OneDrive\\Desktop\\SURGE\\data\\times.npy')"
   ]
  },
  {
   "cell_type": "code",
   "execution_count": 42,
   "metadata": {},
   "outputs": [
    {
     "data": {
      "text/plain": [
       "array([366, 362, 339, 334, 313, 307, 292, 284, 278, 272, 262, 255, 249,\n",
       "       233, 226, 221, 214, 205, 199, 193, 170, 164, 138, 115, 111,  55,\n",
       "        40])"
      ]
     },
     "execution_count": 42,
     "metadata": {},
     "output_type": "execute_result"
    }
   ],
   "source": [
    "x_pos_2"
   ]
  },
  {
   "cell_type": "code",
   "execution_count": 43,
   "metadata": {},
   "outputs": [
    {
     "data": {
      "text/plain": [
       "array([132, 132, 132, 132, 132, 132, 131, 130, 129, 128, 129, 130, 129,\n",
       "       132, 133, 134, 134, 133, 134, 134, 136, 136, 137, 138, 140, 143,\n",
       "       143])"
      ]
     },
     "execution_count": 43,
     "metadata": {},
     "output_type": "execute_result"
    }
   ],
   "source": [
    "y_pos_2"
   ]
  },
  {
   "cell_type": "code",
   "execution_count": 44,
   "metadata": {},
   "outputs": [
    {
     "name": "stdout",
     "output_type": "stream",
     "text": [
      "Frame dimensions: 480 x 272\n"
     ]
    }
   ],
   "source": [
    "\n",
    "video_path = r\"C:\\Users\\iamma\\OneDrive\\Desktop\\SURGE\\head_on.mp4\"\n",
    "cap = cv2.VideoCapture(video_path)\n",
    "if not cap.isOpened():\n",
    "    print(\"Error: Could not open video.\")\n",
    "    exit()\n",
    "\n",
    "frame_width = int(cap.get(cv2.CAP_PROP_FRAME_WIDTH))\n",
    "frame_height = int(cap.get(cv2.CAP_PROP_FRAME_HEIGHT))\n",
    "\n",
    "print(f\"Frame dimensions: {frame_width} x {frame_height}\")\n",
    "\n",
    "# Release resources\n",
    "cap.release()\n"
   ]
  },
  {
   "cell_type": "code",
   "execution_count": 45,
   "metadata": {},
   "outputs": [
    {
     "name": "stdout",
     "output_type": "stream",
     "text": [
      "[ 5.167  5.375  6.375  6.667  7.667  7.875  8.708  9.     9.417  9.75\n",
      " 10.125 10.417 10.667 11.458 11.708 12.042 12.5   12.792 13.083 13.375\n",
      " 14.375 14.708 16.    17.    17.292 19.292 19.583]\n"
     ]
    }
   ],
   "source": [
    "x_pos_1 = np.round((x_pos_1/480)*20,3)\n",
    "print(x_pos_1)"
   ]
  },
  {
   "cell_type": "code",
   "execution_count": 46,
   "metadata": {},
   "outputs": [
    {
     "name": "stdout",
     "output_type": "stream",
     "text": [
      "[15.25  15.083 14.125 13.917 13.042 12.792 12.167 11.833 11.583 11.333\n",
      " 10.917 10.625 10.375  9.708  9.417  9.208  8.917  8.542  8.292  8.042\n",
      "  7.083  6.833  5.75   4.792  4.625  2.292  1.667]\n"
     ]
    }
   ],
   "source": [
    "x_pos_2 = np.round((x_pos_2/480)*20,3)\n",
    "print(x_pos_2)"
   ]
  },
  {
   "cell_type": "code",
   "execution_count": 47,
   "metadata": {},
   "outputs": [
    {
     "name": "stdout",
     "output_type": "stream",
     "text": [
      "[2.02  2.02  2.033 2.02  2.123 2.136 2.123 2.123 2.123 2.149 2.188 2.2\n",
      " 2.2   2.2   2.188 2.175 2.162 2.162 2.136 2.123 2.11  2.097 1.969 1.956\n",
      " 1.956 1.814 1.801]\n"
     ]
    }
   ],
   "source": [
    "y_pos_1 = np.round((y_pos_1/272)*3.5,3)\n",
    "print(y_pos_1)"
   ]
  },
  {
   "cell_type": "code",
   "execution_count": 48,
   "metadata": {},
   "outputs": [
    {
     "name": "stdout",
     "output_type": "stream",
     "text": [
      "[1.699 1.699 1.699 1.699 1.699 1.699 1.686 1.673 1.66  1.647 1.66  1.673\n",
      " 1.66  1.699 1.711 1.724 1.724 1.711 1.724 1.724 1.75  1.75  1.763 1.776\n",
      " 1.801 1.84  1.84 ]\n"
     ]
    }
   ],
   "source": [
    "y_pos_2 = np.round((y_pos_2/272)*3.5,3)\n",
    "print(y_pos_2)"
   ]
  },
  {
   "cell_type": "code",
   "execution_count": 53,
   "metadata": {},
   "outputs": [
    {
     "data": {
      "image/png": "[encoded data removed]",
      "text/plain": [
       "<Figure size 600x300 with 1 Axes>"
      ]
     },
     "metadata": {},
     "output_type": "display_data"
    }
   ],
   "source": [
    "plt.figure(figsize=(6, 3))\n",
    "plt.plot(x_pos_1, y_pos_1, markersize=5, linewidth=1,label = 'AGENT 1')\n",
    "plt.plot(x_pos_2, y_pos_2, markersize=5, linewidth=1,label = 'AGENT 2')\n",
    "plt.legend()\n",
    "plt.xlabel('x')\n",
    "plt.ylabel('y')\n",
    "plt.grid(True)\n",
    "y_ticks = np.arange(1.4, 3.2, 0.2)\n",
    "x_ticks = np.arange(0, 20.1, 2)\n",
    "\n",
    "plt.xticks(x_ticks,fontsize=10)\n",
    "plt.yticks(y_ticks,fontsize=10)\n",
    "\n",
    "plt.xlim(0, 20)  # Adjust the maximum value as needed\n",
    "plt.ylim(1.4, 3) \n",
    "plt.show()"
   ]
  },
  {
   "cell_type": "code",
   "execution_count": null,
   "metadata": {},
   "outputs": [
    {
     "data": {
      "image/png": "[encoded data removed]",
      "text/plain": [
       "<Figure size 1000x600 with 1 Axes>"
      ]
     },
     "metadata": {},
     "output_type": "display_data"
    }
   ],
   "source": [
    "plt.figure(figsize=(10, 6))\n",
    "plt.plot(time, x_pos_2, markersize=5, linewidth=1,label = 'X_position')\n",
    "plt.plot(time, y_pos_2, markersize=5, linewidth=1,label = 'Y_position')\n",
    "plt.legend()\n",
    "plt.xlabel('time')\n",
    "plt.grid(True)\n",
    "plt.show()"
   ]
  },
  {
   "cell_type": "code",
   "execution_count": null,
   "metadata": {},
   "outputs": [],
   "source": [
    "v_x1 = np.zeros_like(x_pos_1)\n",
    "v_y1 = np.zeros_like(y_pos_1)\n",
    "\n",
    "for i in range(2,len(x_pos_1)-2):\n",
    "    h = (time[i+2] - time[i])\n",
    "    v_x1[i] = -x_pos_1[i+2] + 8*x_pos_1[i+1] - 8*x_pos_1[i-1] + x_pos_1[i-2]/12*h \n",
    "    v_x1[i] = abs(v_x1[i])\n",
    "    v_y1[i] = -y_pos_1[i+2] + 8*y_pos_1[i+1] - 8*y_pos_1[i-1] + y_pos_1[i-2]/12*h\n",
    "    v_y1[i] = abs(v_y1[i]) "
   ]
  },
  {
   "cell_type": "code",
   "execution_count": null,
   "metadata": {},
   "outputs": [
    {
     "data": {
      "text/plain": [
       "array([0.        , 0.        , 2.99552862, 2.79260742, 1.24077433,\n",
       "       0.37394399, 0.18101875, 3.83303419, 3.86926827, 4.4948322 ,\n",
       "       5.06106351, 6.66873612, 2.91865448, 3.40053101, 7.50022207,\n",
       "       6.12614379, 6.74669854, 8.34154832, 8.93701258, 3.58568679,\n",
       "       4.30344302, 2.53364549, 1.94064961, 6.90641803, 1.20472469,\n",
       "       0.        , 0.        ])"
      ]
     },
     "execution_count": 87,
     "metadata": {},
     "output_type": "execute_result"
    }
   ],
   "source": [
    "v_x1"
   ]
  },
  {
   "cell_type": "code",
   "execution_count": null,
   "metadata": {},
   "outputs": [
    {
     "data": {
      "text/plain": [
       "array([0.        , 0.        , 1.99534608, 1.2913773 , 1.10418491,\n",
       "       2.03269355, 2.16165655, 2.08255594, 1.91765291, 1.61910108,\n",
       "       1.73114461, 2.00409599, 2.0883038 , 2.20479747, 2.29439791,\n",
       "       2.30666577, 2.17715173, 2.26427044, 2.28813114, 2.17210372,\n",
       "       2.00841927, 2.85124706, 2.95238743, 1.62577989, 2.63528463,\n",
       "       0.        , 0.        ])"
      ]
     },
     "execution_count": 88,
     "metadata": {},
     "output_type": "execute_result"
    }
   ],
   "source": [
    "v_y1"
   ]
  },
  {
   "cell_type": "code",
   "execution_count": null,
   "metadata": {},
   "outputs": [],
   "source": [
    "v_x2 = np.zeros_like(x_pos_2)\n",
    "v_y2 = np.zeros_like(y_pos_2)\n",
    "\n",
    "for i in range(2,len(x_pos_1)-2):\n",
    "    h = (time[i+2] - time[i])\n",
    "    v_x2[i] = -x_pos_2[i+2] + 8*x_pos_2[i+1] - 8*x_pos_2[i-1] + x_pos_2[i-2]/12*h \n",
    "    v_y2[i] = -y_pos_2[i+2] + 8*y_pos_2[i+1] - 8*y_pos_2[i-1] + y_pos_2[i-2]/12*h "
   ]
  },
  {
   "cell_type": "code",
   "execution_count": null,
   "metadata": {},
   "outputs": [
    {
     "data": {
      "text/plain": [
       "array([  0.        ,   0.        , -21.4062761 , -20.52546331,\n",
       "       -20.53602944, -18.21082429, -18.85358256, -15.6070822 ,\n",
       "       -14.55968627, -15.61356671, -15.70697553, -13.51714466,\n",
       "       -16.25556701, -16.55227186, -12.59819471, -12.2625233 ,\n",
       "       -13.34950539, -12.75949617, -10.53086833, -15.97993063,\n",
       "       -14.76756581, -14.57432352, -20.51119345, -10.33981115,\n",
       "       -20.78591144,   0.        ,   0.        ])"
      ]
     },
     "execution_count": 90,
     "metadata": {},
     "output_type": "execute_result"
    }
   ],
   "source": [
    "v_x2"
   ]
  },
  {
   "cell_type": "code",
   "execution_count": null,
   "metadata": {},
   "outputs": [
    {
     "data": {
      "text/plain": [
       "array([ 0.        ,  0.        , -1.59163168, -1.59418121, -1.61010485,\n",
       "       -1.70104422, -1.81570678, -1.8021496 , -1.81848648, -1.62500947,\n",
       "       -1.40441642, -1.62243327, -1.42736212, -1.26565598, -1.47299115,\n",
       "       -1.5580887 , -1.77885311, -1.67110723, -1.53925165, -1.43682631,\n",
       "       -1.41893578, -1.48299101, -1.48384266, -1.29213486, -1.05785059,\n",
       "        0.        ,  0.        ])"
      ]
     },
     "execution_count": 91,
     "metadata": {},
     "output_type": "execute_result"
    }
   ],
   "source": [
    "v_y2"
   ]
  },
  {
   "cell_type": "code",
   "execution_count": null,
   "metadata": {},
   "outputs": [],
   "source": [
    "np.save(\"v_x1.npy\",v_x1)\n",
    "np.save(\"v_y1.npy\",v_y1)"
   ]
  },
  {
   "cell_type": "code",
   "execution_count": null,
   "metadata": {},
   "outputs": [],
   "source": [
    "np.save(\"v_x2.npy\",v_x2)\n",
    "np.save(\"v_y2.npy\",v_y2)"
   ]
  },
  {
   "cell_type": "code",
   "execution_count": null,
   "metadata": {},
   "outputs": [],
   "source": [
    "X1 = [[x_pos_1[i], y_pos_1[i], v_x1[i], v_y1[i]] for i in range(len(x_pos_1))]\n"
   ]
  },
  {
   "cell_type": "code",
   "execution_count": null,
   "metadata": {},
   "outputs": [
    {
     "data": {
      "text/plain": [
       "array([[ 5.167     ,  2.02      ,  0.        ,  0.        ],\n",
       "       [ 5.375     ,  2.02      ,  0.        ,  0.        ],\n",
       "       [ 6.375     ,  2.033     ,  2.99552862,  1.99534608],\n",
       "       [ 6.667     ,  2.02      ,  2.79260742,  1.2913773 ],\n",
       "       [ 7.667     ,  2.123     ,  1.24077433,  1.10418491],\n",
       "       [ 7.875     ,  2.136     ,  0.37394399,  2.03269355],\n",
       "       [ 8.708     ,  2.123     ,  0.18101875,  2.16165655],\n",
       "       [ 9.        ,  2.123     ,  3.83303419,  2.08255594],\n",
       "       [ 9.417     ,  2.123     ,  3.86926827,  1.91765291],\n",
       "       [ 9.75      ,  2.149     ,  4.4948322 ,  1.61910108],\n",
       "       [10.125     ,  2.188     ,  5.06106351,  1.73114461],\n",
       "       [10.417     ,  2.2       ,  6.66873612,  2.00409599],\n",
       "       [10.667     ,  2.2       ,  2.91865448,  2.0883038 ],\n",
       "       [11.458     ,  2.2       ,  3.40053101,  2.20479747],\n",
       "       [11.708     ,  2.188     ,  7.50022207,  2.29439791],\n",
       "       [12.042     ,  2.175     ,  6.12614379,  2.30666577],\n",
       "       [12.5       ,  2.162     ,  6.74669854,  2.17715173],\n",
       "       [12.792     ,  2.162     ,  8.34154832,  2.26427044],\n",
       "       [13.083     ,  2.136     ,  8.93701258,  2.28813114],\n",
       "       [13.375     ,  2.123     ,  3.58568679,  2.17210372],\n",
       "       [14.375     ,  2.11      ,  4.30344302,  2.00841927],\n",
       "       [14.708     ,  2.097     ,  2.53364549,  2.85124706],\n",
       "       [16.        ,  1.969     ,  1.94064961,  2.95238743],\n",
       "       [17.        ,  1.956     ,  6.90641803,  1.62577989],\n",
       "       [17.292     ,  1.956     ,  1.20472469,  2.63528463],\n",
       "       [19.292     ,  1.814     ,  0.        ,  0.        ],\n",
       "       [19.583     ,  1.801     ,  0.        ,  0.        ]])"
      ]
     },
     "execution_count": 96,
     "metadata": {},
     "output_type": "execute_result"
    }
   ],
   "source": [
    "X1 = np.array(X1)\n",
    "X1"
   ]
  },
  {
   "cell_type": "code",
   "execution_count": null,
   "metadata": {},
   "outputs": [],
   "source": [
    "X2 = [[x_pos_2[i], y_pos_2[i], v_x2[i], v_y2[i]] for i in range(len(x_pos_1))]\n"
   ]
  },
  {
   "cell_type": "code",
   "execution_count": null,
   "metadata": {},
   "outputs": [
    {
     "data": {
      "text/plain": [
       "array([[ 15.25      ,   1.699     ,   0.        ,   0.        ],\n",
       "       [ 15.083     ,   1.699     ,   0.        ,   0.        ],\n",
       "       [ 14.125     ,   1.699     , -21.4062761 ,  -1.59163168],\n",
       "       [ 13.917     ,   1.699     , -20.52546331,  -1.59418121],\n",
       "       [ 13.042     ,   1.699     , -20.53602944,  -1.61010485],\n",
       "       [ 12.792     ,   1.699     , -18.21082429,  -1.70104422],\n",
       "       [ 12.167     ,   1.686     , -18.85358256,  -1.81570678],\n",
       "       [ 11.833     ,   1.673     , -15.6070822 ,  -1.8021496 ],\n",
       "       [ 11.583     ,   1.66      , -14.55968627,  -1.81848648],\n",
       "       [ 11.333     ,   1.647     , -15.61356671,  -1.62500947],\n",
       "       [ 10.917     ,   1.66      , -15.70697553,  -1.40441642],\n",
       "       [ 10.625     ,   1.673     , -13.51714466,  -1.62243327],\n",
       "       [ 10.375     ,   1.66      , -16.25556701,  -1.42736212],\n",
       "       [  9.708     ,   1.699     , -16.55227186,  -1.26565598],\n",
       "       [  9.417     ,   1.711     , -12.59819471,  -1.47299115],\n",
       "       [  9.208     ,   1.724     , -12.2625233 ,  -1.5580887 ],\n",
       "       [  8.917     ,   1.724     , -13.34950539,  -1.77885311],\n",
       "       [  8.542     ,   1.711     , -12.75949617,  -1.67110723],\n",
       "       [  8.292     ,   1.724     , -10.53086833,  -1.53925165],\n",
       "       [  8.042     ,   1.724     , -15.97993063,  -1.43682631],\n",
       "       [  7.083     ,   1.75      , -14.76756581,  -1.41893578],\n",
       "       [  6.833     ,   1.75      , -14.57432352,  -1.48299101],\n",
       "       [  5.75      ,   1.763     , -20.51119345,  -1.48384266],\n",
       "       [  4.792     ,   1.776     , -10.33981115,  -1.29213486],\n",
       "       [  4.625     ,   1.801     , -20.78591144,  -1.05785059],\n",
       "       [  2.292     ,   1.84      ,   0.        ,   0.        ],\n",
       "       [  1.667     ,   1.84      ,   0.        ,   0.        ]])"
      ]
     },
     "execution_count": 98,
     "metadata": {},
     "output_type": "execute_result"
    }
   ],
   "source": [
    "X2 = np.array(X2)\n",
    "X2"
   ]
  },
  {
   "cell_type": "code",
   "execution_count": null,
   "metadata": {},
   "outputs": [],
   "source": [
    "np.save(\"1_state_matrix_\",X1)\n",
    "np.save(\"2_state_matrix\",X2)"
   ]
  },
  {
   "cell_type": "code",
   "execution_count": null,
   "metadata": {},
   "outputs": [],
   "source": [
    "image_points = np.array([[0,0], [480,0], [0,272], [480,272]],dtype = 'float32')\n",
    "real_world_points = np.array([[0,0],[20,0],[0,3.5],[20,3.5]],dtype = 'float32')"
   ]
  },
  {
   "cell_type": "code",
   "execution_count": 1,
   "metadata": {},
   "outputs": [
    {
     "ename": "NameError",
     "evalue": "name 'np' is not defined",
     "output_type": "error",
     "traceback": [
      "\u001b[1;31m---------------------------------------------------------------------------\u001b[0m",
      "\u001b[1;31mNameError\u001b[0m                                 Traceback (most recent call last)",
      "Cell \u001b[1;32mIn[1], line 1\u001b[0m\n\u001b[1;32m----> 1\u001b[0m entropy \u001b[38;5;241m=\u001b[39m \u001b[43mnp\u001b[49m\u001b[38;5;241m.\u001b[39mload(\u001b[38;5;124mr\u001b[39m\u001b[38;5;124m'\u001b[39m\u001b[38;5;124mC:\u001b[39m\u001b[38;5;124m\\\u001b[39m\u001b[38;5;124mUsers\u001b[39m\u001b[38;5;124m\\\u001b[39m\u001b[38;5;124miamma\u001b[39m\u001b[38;5;124m\\\u001b[39m\u001b[38;5;124mOneDrive\u001b[39m\u001b[38;5;124m\\\u001b[39m\u001b[38;5;124mDesktop\u001b[39m\u001b[38;5;124m\\\u001b[39m\u001b[38;5;124mSURGE\u001b[39m\u001b[38;5;124m\\\u001b[39m\u001b[38;5;124mentropy2.npy\u001b[39m\u001b[38;5;124m'\u001b[39m)\n\u001b[0;32m      2\u001b[0m entropy\n",
      "\u001b[1;31mNameError\u001b[0m: name 'np' is not defined"
     ]
    }
   ],
   "source": [
    "entropy = np.load(r'C:\\Users\\iamma\\OneDrive\\Desktop\\SURGE\\entropy2.npy')\n",
    "entropy"
   ]
  },
  {
   "cell_type": "code",
   "execution_count": null,
   "metadata": {},
   "outputs": [
    {
     "data": {
      "text/plain": [
       "array([   0,  200,  400,  600,  800, 1000, 1200, 1400, 1600, 1800, 2000,\n",
       "       2200, 2400, 2600, 2800, 3000, 3200, 3400, 3600, 3800, 4000, 4200,\n",
       "       4400, 4600, 4800, 5000, 5200])"
      ]
     },
     "execution_count": 25,
     "metadata": {},
     "output_type": "execute_result"
    }
   ],
   "source": [
    "times = np.load(r'C:\\Users\\iamma\\OneDrive\\Desktop\\SURGE\\times.npy')\n",
    "times"
   ]
  },
  {
   "cell_type": "code",
   "execution_count": null,
   "metadata": {},
   "outputs": [
    {
     "data": {
      "text/plain": [
       "array([ 0.16270036, -0.03888351,  0.11321816, ..., -0.3050214 ,\n",
       "       -0.42698146, -0.07113382])"
      ]
     },
     "execution_count": 16,
     "metadata": {},
     "output_type": "execute_result"
    }
   ],
   "source": [
    "error = np.load(r'C:\\Users\\iamma\\OneDrive\\Desktop\\SURGE\\error.npy')\n",
    "error"
   ]
  },
  {
   "cell_type": "code",
   "execution_count": null,
   "metadata": {},
   "outputs": [
    {
     "data": {
      "image/png": "[encoded data removed]",
      "text/plain": [
       "<Figure size 1000x600 with 1 Axes>"
      ]
     },
     "metadata": {},
     "output_type": "display_data"
    }
   ],
   "source": [
    "plt.figure(figsize=(10, 6))\n",
    "plt.plot(times, entropy, markersize=5, linewidth=1,label = 'X_position')\n",
    "y_ticks = np.arange(0,2.8)\n",
    "plt.yticks(y_ticks,fontsize = 10)\n",
    "plt.xlabel('time')\n",
    "plt.grid(True)\n",
    "plt.show()"
   ]
  }
 ],
 "metadata": {
  "kernelspec": {
   "display_name": "Python 3",
   "language": "python",
   "name": "python3"
  },
  "language_info": {
   "codemirror_mode": {
    "name": "ipython",
    "version": 3
   },
   "file_extension": ".py",
   "mimetype": "text/x-python",
   "name": "python",
   "nbconvert_exporter": "python",
   "pygments_lexer": "ipython3",
   "version": "3.11.3"
  }
 },
 "nbformat": 4,
 "nbformat_minor": 2
}
